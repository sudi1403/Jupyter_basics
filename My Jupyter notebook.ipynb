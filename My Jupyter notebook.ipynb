{
 "cells": [
  {
   "cell_type": "markdown",
   "id": "6366857b",
   "metadata": {},
   "source": [
    "# MY JUPTER NOTEBOOK"
   ]
  },
  {
   "cell_type": "markdown",
   "id": "cc0c94d5",
   "metadata": {},
   "source": [
    "This is an introductory sentence"
   ]
  },
  {
   "cell_type": "markdown",
   "id": "48ea1a38",
   "metadata": {},
   "source": [
    "# Data Science Languages\n",
    "\n",
    "1. Python\n",
    "2. R\n",
    "3. SQL\n",
    "4. Julia\n",
    "5. MATLAB\n",
    "6. Scala\n",
    "7. Java\n",
    "8. JavaScript (with libraries like TensorFlow.js)\n",
    "9. SAS\n",
    "10. Julia"
   ]
  },
  {
   "cell_type": "markdown",
   "id": "0da435a0",
   "metadata": {},
   "source": [
    "# Data Science Libraries\n",
    "\n",
    "- Python:\n",
    "  - NumPy\n",
    "  - pandas\n",
    "  - Matplotlib\n",
    "  - Seaborn\n",
    "  - Scikit-learn\n",
    "  - TensorFlow\n",
    "  - PyTorch\n",
    "  - Keras\n",
    "\n",
    "- R:\n",
    "  - dplyr\n",
    "  - ggplot2\n",
    "  - caret\n",
    "  - tidyr\n",
    "  - lubridate\n",
    "  - magrittr\n",
    "  - stringr\n",
    "  - rpart\n"
   ]
  },
  {
   "cell_type": "markdown",
   "id": "cf49dbf5",
   "metadata": {},
   "source": [
    "# Data Science Tools\n",
    "\n",
    "| Language | Libraries                     |\n",
    "|----------|-------------------------------|\n",
    "| Python   | NumPy, pandas, Matplotlib, Seaborn, Scikit-learn, TensorFlow, PyTorch, Keras |\n",
    "| R        | dplyr, ggplot2, caret, tidyr, lubridate, magrittr, stringr, rpart          |\n",
    "| SQL      | SQL Server, PostgreSQL, MySQL, SQLite, Oracle                               |\n",
    "| Julia    | DataFrames.jl, StatsBase.jl, Plots.jl, Flux.jl, MLJ.jl                        |\n"
   ]
  },
  {
   "cell_type": "markdown",
   "id": "dd41aa49",
   "metadata": {},
   "source": [
    "# Arithmetic Expression Examples\n",
    "\n",
    "In this section, we'll explore some examples of arithmetic expressions in mathematics.\n"
   ]
  },
  {
   "cell_type": "code",
   "execution_count": 2,
   "id": "e12cd57d",
   "metadata": {},
   "outputs": [
    {
     "name": "stdout",
     "output_type": "stream",
     "text": [
      "Product: 15\n",
      "Sum: 8\n"
     ]
    }
   ],
   "source": [
    "# Define two numbers\n",
    "number1 = 5\n",
    "number2 = 3\n",
    "\n",
    "# Multiply the numbers\n",
    "product = number1 * number2\n",
    "print(\"Product:\", product)\n",
    "\n",
    "# Add the numbers\n",
    "sum = number1 + number2\n",
    "print(\"Sum:\", sum)\n"
   ]
  },
  {
   "cell_type": "code",
   "execution_count": 4,
   "id": "cab44e41",
   "metadata": {},
   "outputs": [
    {
     "name": "stdout",
     "output_type": "stream",
     "text": [
      "Number of hours: 2.5\n"
     ]
    }
   ],
   "source": [
    "# Define the number of minutes\n",
    "minutes = 150\n",
    "\n",
    "# Convert minutes to hours\n",
    "hours = minutes / 60\n",
    "\n",
    "# Print the result\n",
    "print(\"Number of hours:\", hours)\n"
   ]
  },
  {
   "cell_type": "markdown",
   "id": "f4ebe077",
   "metadata": {},
   "source": [
    "# Introduction to Data Science Tools\n",
    "\n",
    "In this section, we'll explore various tools used in data science.\n",
    "\n",
    "- Jupyter Notebook\n",
    "- RStudio\n",
    "- Python IDEs (e.g., PyCharm, VSCode)\n",
    "- SQL editors (e.g., DBeaver, MySQL Workbench)\n",
    "- Version control systems (e.g., Git, GitHub)\n",
    "- Data visualization tools (e.g., Tableau, Power BI)\n"
   ]
  },
  {
   "cell_type": "markdown",
   "id": "d6a581f1",
   "metadata": {},
   "source": [
    "# Author Details\n",
    "\n",
    "**Author:** Sudiksha R\n",
    "**Date:** 17.04.2024\n"
   ]
  },
  {
   "cell_type": "code",
   "execution_count": null,
   "id": "79d8413f",
   "metadata": {},
   "outputs": [],
   "source": [
    "\n"
   ]
  },
  {
   "cell_type": "code",
   "execution_count": null,
   "id": "59a935f4",
   "metadata": {},
   "outputs": [],
   "source": []
  }
 ],
 "metadata": {
  "kernelspec": {
   "display_name": "Python 3 (ipykernel)",
   "language": "python",
   "name": "python3"
  },
  "language_info": {
   "codemirror_mode": {
    "name": "ipython",
    "version": 3
   },
   "file_extension": ".py",
   "mimetype": "text/x-python",
   "name": "python",
   "nbconvert_exporter": "python",
   "pygments_lexer": "ipython3",
   "version": "3.11.5"
  }
 },
 "nbformat": 4,
 "nbformat_minor": 5
}
